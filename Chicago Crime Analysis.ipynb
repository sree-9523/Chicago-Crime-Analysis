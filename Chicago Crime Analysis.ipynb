{
 "cells": [
  {
   "cell_type": "markdown",
   "id": "f5b9e45a-3e25-425a-80b3-36f50a548eab",
   "metadata": {},
   "source": [
    "## Exploratory Data Analysis"
   ]
  },
  {
   "cell_type": "code",
   "execution_count": null,
   "id": "23fdf500-8f28-4811-82f5-d3c322df2eb4",
   "metadata": {},
   "outputs": [],
   "source": [
    "import pandas as pd\n",
    "import numpy as np"
   ]
  },
  {
   "cell_type": "code",
   "execution_count": null,
   "id": "aed30b86-2e4f-40d7-b232-c6274a02b917",
   "metadata": {},
   "outputs": [],
   "source": [
    "# Getting the first 5 observations\n",
    "df = pd.read_excel(\"Crime_Data.xlsx\")\n",
    "df.head()"
   ]
  },
  {
   "cell_type": "code",
   "execution_count": null,
   "id": "922df380-700e-4e0d-9b73-6d5abf3cce23",
   "metadata": {},
   "outputs": [],
   "source": [
    "# Creating additional time-based features\n",
    "df[\"Time\"] = df[\"Date\"].dt.time\n",
    "df[\"Date\"] = df[\"Date\"].dt.date\n",
    "\n",
    "# Converting the data types of time-date-based columns\n",
    "df[\"Date\"] = pd.to_datetime(df[\"Date\"])\n",
    "df[\"Time\"] = pd.to_datetime(df[\"Time\"].astype(str).map(str), format=\"%H:%M:%S\").dt.time\n",
    "df[\"Day\"] = df[\"Date\"].dt.day\n",
    "df[\"Month\"] = df[\"Date\"].dt.month\n",
    "df[\"DayOfWeek\"] = df[\"Date\"].dt.day_name()"
   ]
  },
  {
   "cell_type": "code",
   "execution_count": null,
   "id": "2a4e6f05-22f7-4c11-bd4b-80e9a302f8d7",
   "metadata": {},
   "outputs": [],
   "source": [
    "df.info()"
   ]
  },
  {
   "cell_type": "code",
   "execution_count": null,
   "id": "781f8350-521d-473c-9fc6-e26be26d1d27",
   "metadata": {},
   "outputs": [],
   "source": [
    "# Getting all the columns in the dataset\n",
    "df.columns"
   ]
  },
  {
   "cell_type": "code",
   "execution_count": null,
   "id": "5db1e463-653d-40ae-bd3f-205fad72e153",
   "metadata": {},
   "outputs": [],
   "source": [
    "# Dropping redundant column\n",
    "df.drop(\"Updated On\", axis = 1, inplace = True)\n",
    "df.head(2)"
   ]
  },
  {
   "cell_type": "code",
   "execution_count": null,
   "id": "b7fefd0d-7473-4ec3-8fca-e1f9ae8938ba",
   "metadata": {},
   "outputs": [],
   "source": [
    "# Checking for missing values\n",
    "df.isnull().sum()"
   ]
  },
  {
   "cell_type": "code",
   "execution_count": null,
   "id": "6543c5bb-29c3-479c-9749-e06f33d2594c",
   "metadata": {},
   "outputs": [],
   "source": [
    "# Checking percentages of missing data \n",
    "print(\"Missing percentages before cleaning:\")\n",
    "cols_to_check = [\"Ward\", \"Community Area\", \"X Coordinate\", \"Y Coordinate\", \n",
    "                 \"Latitude\", \"Longitude\", \"Location Description\", \"Location\"]\n",
    "for col in cols_to_check:\n",
    "    print(f\"{col}: {(df[col].isnull().sum() / len(df)) * 100:.2f}%\")"
   ]
  },
  {
   "cell_type": "markdown",
   "id": "399d594b-c052-4a25-8610-fdc29b4891a3",
   "metadata": {},
   "source": [
    "#### Data Handling for Numeric Columns"
   ]
  },
  {
   "cell_type": "code",
   "execution_count": null,
   "id": "5e7532f7-8233-4f31-b210-59aceeec763c",
   "metadata": {},
   "outputs": [],
   "source": [
    "# Dropping the rows with missing values for X Coordinate, Y Coordinate, Latitude, Longitude\n",
    "# since their missing percentage is as low as 1.26%\n",
    "df = df.dropna(subset = [\"X Coordinate\", \"Y Coordinate\", \"Latitude\", \"Longitude\"])\n",
    "df.isnull().sum()"
   ]
  },
  {
   "cell_type": "code",
   "execution_count": null,
   "id": "e4575d06-ebae-4283-aa9c-9cc66659965d",
   "metadata": {},
   "outputs": [],
   "source": [
    "# Filling the missing values for Ward and Community Area with 0 as missing percentage is very high\n",
    "df[\"Ward\"] = df[\"Ward\"].fillna(0)\n",
    "df[\"Community Area\"] = df[\"Community Area\"].fillna(0)\n",
    "df.isnull().sum()"
   ]
  },
  {
   "cell_type": "markdown",
   "id": "beebe628-fc43-4cda-8cca-4f51dd8ef212",
   "metadata": {},
   "source": [
    "#### Data Handling for Categorical Columns"
   ]
  },
  {
   "cell_type": "code",
   "execution_count": null,
   "id": "8c619a6c-9f6a-4f8a-a081-913d4a495450",
   "metadata": {},
   "outputs": [],
   "source": [
    "# Filling missing values for Location Description and Location with mode\n",
    "df.loc[:, \"Location Description\"] = df[\"Location Description\"].fillna(df[\"Location Description\"].mode()[0])\n",
    "df.loc[:, \"Location\"] = df[\"Location\"].fillna(df[\"Location\"].mode()[0])"
   ]
  },
  {
   "cell_type": "code",
   "execution_count": null,
   "id": "05cd43b2-8738-459f-bc47-d90ba1b718c0",
   "metadata": {},
   "outputs": [],
   "source": [
    "df.isnull().sum()"
   ]
  },
  {
   "cell_type": "markdown",
   "id": "322a8ad2-7267-4301-8a40-e714e15a4182",
   "metadata": {},
   "source": [
    "#### Data Type Verification"
   ]
  },
  {
   "cell_type": "code",
   "execution_count": null,
   "id": "b1efe4f5-fe6d-48ae-9169-865e13fccf11",
   "metadata": {},
   "outputs": [],
   "source": [
    "df[\"Ward\"] = df[\"Ward\"].astype(\"int64\")\n",
    "df[\"Community Area\"] = df[\"Community Area\"].astype(\"int64\")\n",
    "\n",
    "# Confirming the data types\n",
    "df.info()"
   ]
  },
  {
   "cell_type": "code",
   "execution_count": null,
   "id": "95445fd4-bd74-4c39-a7ee-1739f36d93b1",
   "metadata": {},
   "outputs": [],
   "source": [
    "# Checking for duplicate values, if any\n",
    "df.duplicated().sum()"
   ]
  },
  {
   "cell_type": "markdown",
   "id": "0333b518-dcac-435b-a95e-78a5d78c93b0",
   "metadata": {},
   "source": [
    "#### Data Standardizing"
   ]
  },
  {
   "cell_type": "code",
   "execution_count": null,
   "id": "0e3eacaa-3d31-4110-8f66-c335505ec786",
   "metadata": {},
   "outputs": [],
   "source": [
    "# Standardizing IUCRs\n",
    "df[\"IUCR\"] = df[\"IUCR\"].astype(str)\n",
    "\n",
    "def standardize_iucr(code):\n",
    "    # Remove any whitespace\n",
    "    code = str(code).strip()\n",
    "    # If code is purely numeric\n",
    "    if code.isdigit():\n",
    "        return code.zfill(4)\n",
    "    # If code is alphanumeric (like \"031A\")\n",
    "    else:\n",
    "        return code\n",
    "        \n",
    "df[\"IUCR\"] = df[\"IUCR\"].apply(standardize_iucr)\n",
    "df.head(2)"
   ]
  },
  {
   "cell_type": "code",
   "execution_count": null,
   "id": "af7cceec-27b5-43a5-98dc-a0096cd2a140",
   "metadata": {},
   "outputs": [],
   "source": [
    "# Standardizing the text columns (case and removal of extra spaces)\n",
    "text_columns = [\"Primary Type\", \"Description\", \"Location Description\", \"Block\"]\n",
    "for col in text_columns:\n",
    "    df[col] = df[col].str.strip().str.upper()"
   ]
  },
  {
   "cell_type": "markdown",
   "id": "a11933a6-7297-4f91-9cc7-de360a4d263c",
   "metadata": {},
   "source": [
    "#### Data Validation"
   ]
  },
  {
   "cell_type": "code",
   "execution_count": null,
   "id": "7b68e108-27ca-4ce0-85d8-2ce44ff10036",
   "metadata": {},
   "outputs": [],
   "source": [
    "# Setting the co-ordinates for Chicago\n",
    "chicago_bounds = {\n",
    "    \"lat_min\": 41.6,\n",
    "    \"lat_max\": 42.1,\n",
    "    \"lon_min\": -87.9,\n",
    "    \"lon_max\": -87.5\n",
    "}\n",
    "print(\"Coordinate ranges:\")\n",
    "print(f\"Latitude: {df[\"Latitude\"].min()} to {df[\"Latitude\"].max()}\")\n",
    "print(f\"Longitude: {df[\"Longitude\"].min()} to {df[\"Longitude\"].max()}\")"
   ]
  },
  {
   "cell_type": "code",
   "execution_count": null,
   "id": "f6c430ad-3ddb-4c14-8132-4154a58aa166",
   "metadata": {},
   "outputs": [],
   "source": [
    "# Identifying the co-ordinates outside Chicago boundaries and removing them\n",
    "invalid_coords = df[\n",
    "    ~(\n",
    "        (df[\"Latitude\"].between(chicago_bounds[\"lat_min\"], chicago_bounds[\"lat_max\"])) & \n",
    "        (df[\"Longitude\"].between(chicago_bounds[\"lon_min\"], chicago_bounds[\"lon_max\"]))\n",
    "    )\n",
    "]\n",
    "\n",
    "print(f\"\\nNumber of records outside Chicago boundaries: {len(invalid_coords)}\")\n",
    "if len(invalid_coords) > 0:\n",
    "    print(\"\\nSample of invalid coordinates:\")\n",
    "    print(invalid_coords[[\"Latitude\", \"Longitude\", \"Location\"]].head())\n",
    "    df = df[\n",
    "        (df[\"Latitude\"].between(chicago_bounds[\"lat_min\"], chicago_bounds[\"lat_max\"])) & \n",
    "        (df[\"Longitude\"].between(chicago_bounds[\"lon_min\"], chicago_bounds[\"lon_max\"]))\n",
    "    ]\n",
    "    \n",
    "    print(\"\\nCoordinate ranges after removing invalid records:\")\n",
    "    print(f\"Latitude: {df[\"Latitude\"].min()} to {df[\"Latitude\"].max()}\")\n",
    "    print(f\"Longitude: {df[\"Longitude\"].min()} to {df[\"Longitude\"].max()}\")"
   ]
  },
  {
   "cell_type": "code",
   "execution_count": null,
   "id": "a2e6e765-5244-4fa1-886d-7889a310e8ed",
   "metadata": {},
   "outputs": [],
   "source": [
    "# Dropping Location column since it is redundant\n",
    "df = df.drop(\"Location\", axis=1)"
   ]
  },
  {
   "cell_type": "code",
   "execution_count": null,
   "id": "ece55e16-aba3-4aa3-ba8e-59cda2ae5304",
   "metadata": {},
   "outputs": [],
   "source": [
    "# Converting boolean values to numeric (0 and 1)\n",
    "df[\"Arrest\"] = df[\"Arrest\"].astype(int)\n",
    "df[\"Domestic\"] = df[\"Domestic\"].astype(int)"
   ]
  },
  {
   "cell_type": "code",
   "execution_count": null,
   "id": "77f95dd1-c62a-4a51-8c2e-14a2c270e2e5",
   "metadata": {},
   "outputs": [],
   "source": [
    "# Creating dictionary of unique FBI codes and their descriptions for crime severity mapping\n",
    "fbi_desc_dict = df.groupby(\"FBI Code\")[\"Description\"].first().to_dict()\n",
    "\n",
    "# Print the dictionary\n",
    "print(\"\\nFBI Code-Description Dictionary:\")\n",
    "for code, desc in fbi_desc_dict.items():\n",
    "    print(f\"{code}: {desc}\")"
   ]
  },
  {
   "cell_type": "code",
   "execution_count": null,
   "id": "c3cfd739-4b79-43c2-bb71-c51642c8bf05",
   "metadata": {},
   "outputs": [],
   "source": [
    "severity_mapping = {\n",
    "    \"02\": \"Severe\", \"03\": \"Severe\", \"05\": \"Severe\", \"06\": \"Non-severe\", \"07\": \"Non-severe\",\n",
    "    \"09\": \"Severe\", \"10\": \"Non-severe\", \"11\": \"Non-severe\", \"12\": \"Severe\", \"13\": \"Non-severe\", \n",
    "    \"14\": \"Non-severe\", \"15\": \"Severe\", \"16\": \"Non-severe\", \"17\": \"Severe\", \"18\": \"Non-severe\", \n",
    "    \"19\": \"Non-severe\", \"20\": \"Severe\", \"22\": \"Non-severe\", \"24\": \"Non-severe\", \"26\": \"Severe\",\n",
    "    \"01A\": \"Severe\", \"01B\": \"Severe\", \"04A\": \"Severe\", \"04B\": \"Severe\", \"08A\": \"Non-severe\", \"08B\": \"Non-severe\"\n",
    "}\n",
    "\n",
    "# Adding severity column\n",
    "df[\"Crime_Severity\"] = df[\"FBI Code\"].map(severity_mapping)\n",
    "\n",
    "df.head()"
   ]
  },
  {
   "cell_type": "code",
   "execution_count": null,
   "id": "b71820ab-088e-4de8-8aaf-0e08b18a7369",
   "metadata": {},
   "outputs": [],
   "source": [
    "# Converting the cleaned dataset into a csv file for further visualisation with Power BI/Tableau\n",
    "df.to_csv(\"Chicago_Crime_Cleaned.csv\", index=False)"
   ]
  },
  {
   "cell_type": "code",
   "execution_count": null,
   "id": "48ae50f2-5157-4214-b022-d430bdd2dc18",
   "metadata": {},
   "outputs": [],
   "source": []
  },
  {
   "cell_type": "code",
   "execution_count": null,
   "id": "c4ed4eee-f751-4e90-b072-dd332602aae4",
   "metadata": {},
   "outputs": [],
   "source": []
  }
 ],
 "metadata": {
  "kernelspec": {
   "display_name": "Python 3 (ipykernel)",
   "language": "python",
   "name": "python3"
  },
  "language_info": {
   "codemirror_mode": {
    "name": "ipython",
    "version": 3
   },
   "file_extension": ".py",
   "mimetype": "text/x-python",
   "name": "python",
   "nbconvert_exporter": "python",
   "pygments_lexer": "ipython3",
   "version": "3.12.4"
  }
 },
 "nbformat": 4,
 "nbformat_minor": 5
}
